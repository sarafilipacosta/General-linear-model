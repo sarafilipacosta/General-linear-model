{
  "cells": [
    {
      "cell_type": "markdown",
      "metadata": {
        "id": "wAn0vKPQHLtL"
      },
      "source": [
        "$\\newcommand{L}[1]{\\| #1 \\|}\\newcommand{VL}[1]{\\L{ \\vec{#1} }}\\newcommand{R}[1]{\\operatorname{Re}\\,(#1)}\\newcommand{I}[1]{\\operatorname{Im}\\, (#1)}$\n",
        "\n",
        "## Introduction to the general linear model\n",
        "\n",
        "These are some notes on simple regression, multiple regression, and the\n",
        "general linear model.\n",
        "\n",
        "The first thing is the setting up a simple regression.\n",
        "Then, I'll attempt to demonstrate how a *design matrix* expresses a basic regression. After that, i will extend simple regression to multiple\n",
        "regression.\n",
        "With the addition of some specially formed regressors, I can express group membership, and therefore do analysis of variance.\n",
        "The last step is multiple regression becomes the general linear model.\n",
        "\n",
        "### About this page\n",
        "\n",
        "I will go through regression and the general linear model.\n",
        "\n",
        "### The example regression problem\n",
        "\n",
        "Assume for the moment that I have assessed 12 students' \"psychopathy\" personality traits. In addition, we possess other details regarding these pupils. For instance, we recorded each student's amount of sweat on their palms; this is known as a \"clammy\" score.\n",
        "\n",
        "Initially, I attempt to determine if the \"psychopathy\" score is predicted by the \"clammy\" score. We are going to use basic linear regression for this.\n",
        "\n",
        "### Simple linear regression\n",
        "\n",
        "Setting up the system to obtain the plots and execute the code is the first stage."
      ]
    },
    {
      "cell_type": "code",
      "execution_count": 1,
      "metadata": {
        "id": "j7bA4q-FHLtP"
      },
      "outputs": [],
      "source": [
        "# Import numerical and plotting libraries\n",
        "import numpy as np\n",
        "import numpy.linalg as npl\n",
        "import matplotlib.pyplot as plt\n",
        "# Only show 6 decimals when printing\n",
        "np.set_printoptions(precision=6)"
      ]
    },
    {
      "cell_type": "code",
      "execution_count": 2,
      "metadata": {
        "id": "J_zu4BvnHLtQ"
      },
      "outputs": [],
      "source": [
        "%matplotlib inline"
      ]
    },
    {
      "cell_type": "markdown",
      "metadata": {
        "id": "_Ne9i3PjHLtQ"
      },
      "source": [
        "Here are our scores of “psychopathy” from the 12 students:"
      ]
    },
    {
      "cell_type": "code",
      "execution_count": 6,
      "metadata": {
        "id": "HIF-iFrHHLtQ"
      },
      "outputs": [],
      "source": [
        "psychopathy = [11.416,   4.514,  12.204,  14.835,\n",
        "               8.416,   6.563,  17.343, 13.02,\n",
        "               15.19 ,  11.902,  22.721,  22.324]"
      ]
    },
    {
      "cell_type": "markdown",
      "metadata": {
        "id": "WV-X9mO7HLtR"
      },
      "source": [
        "These are the skin-conductance scores to get a measure of clamminess for\n",
        "the handshakes of each student:"
      ]
    },
    {
      "cell_type": "code",
      "execution_count": 4,
      "metadata": {
        "id": "dcVGocAIHLtR"
      },
      "outputs": [],
      "source": [
        "clammy = [0.389,  0.2  ,  0.241,  0.463,\n",
        "          4.585,  1.097,  1.642,  4.972,\n",
        "          7.957,  5.585,  5.527,  6.964]"
      ]
    },
    {
      "cell_type": "markdown",
      "metadata": {
        "id": "ElKxLEfZHLtR"
      },
      "source": [
        "We happen to believe that there is some relationship between `clammy`\n",
        "and `psychopathy`. Plotting them together we get:"
      ]
    },
    {
      "cell_type": "code",
      "execution_count": 5,
      "metadata": {
        "colab": {
          "base_uri": "https://localhost:8080/",
          "height": 467
        },
        "id": "18VBsQsnHLtR",
        "outputId": "16e24b4b-78b2-4f6e-f920-6dc752a5aa4a"
      },
      "outputs": [
        {
          "output_type": "execute_result",
          "data": {
            "text/plain": [
              "Text(0, 0.5, 'Psychopathy score')"
            ]
          },
          "metadata": {},
          "execution_count": 5
        },
        {
          "output_type": "display_data",
          "data": {
            "text/plain": [
              "<Figure size 640x480 with 1 Axes>"
            ],
            "image/png": "[encoded data removed]"
          },
          "metadata": {}
        }
      ],
      "source": [
        "plt.plot(clammy, psychopathy, '*')\n",
        "plt.xlabel('Clamminess of handshake')\n",
        "plt.ylabel('Psychopathy score')"
      ]
    },
    {
      "cell_type": "markdown",
      "metadata": {
        "id": "6DkfB5TPHLtS"
      },
      "source": [
        "There appears to be a potencial straight line relationship. Let's try to guess at a line to fit the data. Sor that I will try to intercept of $10$ and slope $0.9$:"
      ]
    },
    {
      "cell_type": "code",
      "execution_count": 7,
      "metadata": {
        "colab": {
          "base_uri": "https://localhost:8080/",
          "height": 448
        },
        "id": "Vn2wiViFHLtS",
        "outputId": "26ca7d65-60de-4ba1-b0c1-8f1e82a2462e"
      },
      "outputs": [
        {
          "output_type": "execute_result",
          "data": {
            "text/plain": [
              "[<matplotlib.lines.Line2D at 0x7af82420e980>]"
            ]
          },
          "metadata": {},
          "execution_count": 7
        },
        {
          "output_type": "display_data",
          "data": {
            "text/plain": [
              "<Figure size 640x480 with 1 Axes>"
            ],
            "image/png": "[encoded data removed]"
          },
          "metadata": {}
        }
      ],
      "source": [
        "# Plot the data\n",
        "plt.plot(clammy, psychopathy, '*')"
      ]
    },
    {
      "cell_type": "code",
      "execution_count": 8,
      "metadata": {
        "id": "kVlusFtfHLtT"
      },
      "outputs": [],
      "source": [
        "def my_line(x):\n",
        "    # My prediction for psychopathy given clamminess\n",
        "    return 10 + 0.9 * x"
      ]
    },
    {
      "cell_type": "code",
      "execution_count": 9,
      "metadata": {
        "colab": {
          "base_uri": "https://localhost:8080/",
          "height": 490
        },
        "id": "SVGyp5JjHLtT",
        "outputId": "de301ca3-5e70-4222-b308-1f932469ea5c"
      },
      "outputs": [
        {
          "output_type": "execute_result",
          "data": {
            "text/plain": [
              "Text(0.5, 1.0, 'Clammy vs psychopathy with guessed line')"
            ]
          },
          "metadata": {},
          "execution_count": 9
        },
        {
          "output_type": "display_data",
          "data": {
            "text/plain": [
              "<Figure size 640x480 with 1 Axes>"
            ],
            "image/png": "[encoded data removed]"
          },
          "metadata": {}
        }
      ],
      "source": [
        "# Plot the prediction\n",
        "x_vals = [0, max(clammy)]\n",
        "y_vals = [my_line(0), my_line(max(clammy))]\n",
        "plt.plot(x_vals, y_vals)\n",
        "plt.xlabel('Clamminess of handshake')\n",
        "plt.ylabel('Psychopathy score')\n",
        "plt.title('Clammy vs psychopathy with guessed line')"
      ]
    },
    {
      "cell_type": "markdown",
      "metadata": {
        "id": "X9KfwVpJHLtU"
      },
      "source": [
        "The straight line relationship means that the values of `psychopathy` can be partly predicted by a straight line of formula `10 + clammy * 0.9`.\n",
        "\n",
        "$\\newcommand{\\yvec}{\\vec{y}} \\newcommand{\\xvec}{\\vec{x}} \\newcommand{\\evec}{\\vec{\\varepsilon}}$\n",
        "\n",
        "To make this more general:\n",
        "\n",
        "-  `psychopathy` data will be Y, target, vector with 12 values, one for each student.\n",
        "-  `clammy` score is a predictor. And the clammy scores vector will be another vector with 12 values, where the value for the first student (= 0.389) and so on.\n",
        "\n",
        "In the straight line model we have that the intercept is **10** and the slope **0.9**\n",
        "\n",
        "$y_i = 10 + 0.9 x_i$\n",
        "\n",
        "Where is possible to say that each observation is equal to the predected value, and an additional error for each observation.\n",
        "\n",
        "$y_i = c + bx_i + e_i$\n",
        "\n",
        "# Simple regression in matrix form\n",
        "\n",
        "So in matrix it will be:\n",
        "$$\n",
        "\\left[\\begin{matrix}11.416\\\\4.514\\\\12.204\\\\14.835\\\\8.416\\\\6.563\\\\17.343\\\\13.02\\\\15.19\\\\11.902\\\\22.721\\\\22.324\\end{matrix}\\right] = c \\left[\\begin{matrix}1\\\\1\\\\1\\\\1\\\\1\\\\1\\\\1\\\\1\\\\1\\\\1\\\\1\\\\1\\end{matrix}\\right] + b \\left[\\begin{matrix}0.389\\\\0.2\\\\0.241\\\\0.463\\\\4.585\\\\1.097\\\\1.642\\\\4.972\\\\7.957\\\\5.585\\\\5.527\\\\6.964\\end{matrix}\\right] + \\left[\\begin{matrix}e_{1}\\\\e_{2}\\\\e_{3}\\\\e_{4}\\\\e_{5}\\\\e_{6}\\\\e_{7}\\\\e_{8}\\\\e_{9}\\\\e_{10}\\\\e_{11}\\\\e_{12}\\end{matrix}\\right]\n",
        "$$\n",
        "\n",
        "which will be equal to\n",
        "\n",
        "$$\n",
        "\\left[\\begin{matrix}11.416\\\\4.514\\\\12.204\\\\14.835\\\\8.416\\\\6.563\\\\17.343\\\\13.02\\\\15.19\\\\11.902\\\\22.721\\\\22.324\\end{matrix}\\right] = \\left[\\begin{matrix}1 & 0.389\\\\1 & 0.2\\\\1 & 0.241\\\\1 & 0.463\\\\1 & 4.585\\\\1 & 1.097\\\\1 & 1.642\\\\1 & 4.972\\\\1 & 7.957\\\\1 & 5.585\\\\1 & 5.527\\\\1 & 6.964\\end{matrix}\\right] \\left[\\begin{matrix}c\\\\b\\end{matrix}\\right] + \\left[\\begin{matrix}e_{1}\\\\e_{2}\\\\e_{3}\\\\e_{4}\\\\e_{5}\\\\e_{6}\\\\e_{7}\\\\e_{8}\\\\e_{9}\\\\e_{10}\\\\e_{11}\\\\e_{12}\\end{matrix}\\right]\n",
        "$$\n",
        "\n",
        "## Multiple regression\n",
        "\n",
        "Is also possible to think that psychopathy increases with age. So adding the\n",
        "student’s age as another predictor:"
      ]
    },
    {
      "cell_type": "code",
      "execution_count": 10,
      "metadata": {
        "id": "spGf0wNQHLtU"
      },
      "outputs": [],
      "source": [
        "age = [22.5,  25.3,  24.6,  21.4,\n",
        "       20.7,  23.3,  23.8,  21.7,\n",
        "       21.3, 25.2,  24.6,  21.8]"
      ]
    },
    {
      "cell_type": "markdown",
      "metadata": {
        "id": "HUgwyW4BHLtU"
      },
      "source": [
        "Now rename the `clammy` predictor vector.\n",
        "\n",
        "In general, a linear model with $p$ predictors looks like this:\n",
        "\n",
        "\n",
        "y_i = b_1 x_{1, i} + b_2 x_{2, i} + ... b_p x_{p, i} + e_i\n",
        "\n",
        "\n",
        "\n",
        "Using this matrix algebra, what line do estimate for `psychopathy`\n",
        "and `clammy`?"
      ]
    },
    {
      "cell_type": "code",
      "execution_count": 11,
      "metadata": {
        "colab": {
          "base_uri": "https://localhost:8080/"
        },
        "id": "7LB8niYvHLtV",
        "outputId": "d026e6e3-79cf-4760-a0d8-d21ca1d680a1"
      },
      "outputs": [
        {
          "output_type": "execute_result",
          "data": {
            "text/plain": [
              "array([[1.   , 0.389],\n",
              "       [1.   , 0.2  ],\n",
              "       [1.   , 0.241],\n",
              "       [1.   , 0.463],\n",
              "       [1.   , 4.585],\n",
              "       [1.   , 1.097],\n",
              "       [1.   , 1.642],\n",
              "       [1.   , 4.972],\n",
              "       [1.   , 7.957],\n",
              "       [1.   , 5.585],\n",
              "       [1.   , 5.527],\n",
              "       [1.   , 6.964]])"
            ]
          },
          "metadata": {},
          "execution_count": 11
        }
      ],
      "source": [
        "X = np.column_stack((np.ones(12), clammy))\n",
        "X"
      ]
    },
    {
      "cell_type": "code",
      "execution_count": 12,
      "metadata": {
        "colab": {
          "base_uri": "https://localhost:8080/"
        },
        "id": "hEovkriEHLtV",
        "outputId": "4cf3acb1-4eff-4823-9639-fcba1f1cda8e"
      },
      "outputs": [
        {
          "output_type": "execute_result",
          "data": {
            "text/plain": [
              "array([10.071286,  0.999257])"
            ]
          },
          "metadata": {},
          "execution_count": 12
        }
      ],
      "source": [
        "# Use the pseudoinverse to get estimated B\n",
        "B = npl.pinv(X).dot(psychopathy)\n",
        "B"
      ]
    },
    {
      "cell_type": "code",
      "execution_count": 13,
      "metadata": {
        "colab": {
          "base_uri": "https://localhost:8080/",
          "height": 448
        },
        "id": "kBa3pj1tHLtW",
        "outputId": "e3e7c83d-0bda-4efc-8ea7-95b3e9502499"
      },
      "outputs": [
        {
          "output_type": "execute_result",
          "data": {
            "text/plain": [
              "[<matplotlib.lines.Line2D at 0x7af8241538e0>]"
            ]
          },
          "metadata": {},
          "execution_count": 13
        },
        {
          "output_type": "display_data",
          "data": {
            "text/plain": [
              "<Figure size 640x480 with 1 Axes>"
            ],
            "image/png": "[encoded data removed]"
          },
          "metadata": {}
        }
      ],
      "source": [
        "# Plot the data\n",
        "plt.plot(clammy, psychopathy, '*')"
      ]
    },
    {
      "cell_type": "code",
      "execution_count": 14,
      "metadata": {
        "id": "sxG5qS-AHLtW"
      },
      "outputs": [],
      "source": [
        "def my_best_line(x):\n",
        "    # Best prediction for psychopathy given clamminess\n",
        "    return B[0] + B[1] * x"
      ]
    },
    {
      "cell_type": "code",
      "execution_count": 15,
      "metadata": {
        "colab": {
          "base_uri": "https://localhost:8080/",
          "height": 467
        },
        "id": "C2LRb6b_HLtW",
        "outputId": "96411651-3dfa-487e-b3d8-92155bcb1b26"
      },
      "outputs": [
        {
          "output_type": "execute_result",
          "data": {
            "text/plain": [
              "Text(0, 0.5, 'Psychopathy score')"
            ]
          },
          "metadata": {},
          "execution_count": 15
        },
        {
          "output_type": "display_data",
          "data": {
            "text/plain": [
              "<Figure size 640x480 with 1 Axes>"
            ],
            "image/png": "[encoded data removed]"
          },
          "metadata": {}
        }
      ],
      "source": [
        "# Plot the new prediction\n",
        "x_vals = [0, max(clammy)]\n",
        "y_vals = [my_best_line(0), my_best_line(max(clammy))]\n",
        "plt.plot(x_vals, y_vals)\n",
        "plt.xlabel('Clamminess of handshake')\n",
        "plt.ylabel('Psychopathy score')"
      ]
    },
    {
      "cell_type": "markdown",
      "metadata": {
        "id": "ZGXW9xjTHLtW"
      },
      "source": [
        "Our claim was that this estimate for slope and intercept minimize the sum of\n",
        "squared error:"
      ]
    },
    {
      "cell_type": "code",
      "execution_count": 16,
      "metadata": {
        "colab": {
          "base_uri": "https://localhost:8080/"
        },
        "id": "7HBBWe6JHLtX",
        "outputId": "57688b7f-27f6-4f8d-92db-5d97d3db1630"
      },
      "outputs": [
        {
          "output_type": "stream",
          "name": "stdout",
          "text": [
            "252.92560644993827\n"
          ]
        }
      ],
      "source": [
        "fitted = X.dot(B)\n",
        "errors = psychopathy - fitted\n",
        "print(np.sum(errors ** 2))"
      ]
    },
    {
      "cell_type": "markdown",
      "metadata": {
        "id": "tPoakV67HLtX"
      },
      "source": [
        "Is this sum of squared errors smaller than our earlier guess of an\n",
        "intercept of 10 and a slope of 0.9?"
      ]
    },
    {
      "cell_type": "code",
      "execution_count": 17,
      "metadata": {
        "colab": {
          "base_uri": "https://localhost:8080/"
        },
        "id": "-Uoc78hJHLtX",
        "outputId": "ffdfeec8-12f0-42d0-b865-91bea327fb6f"
      },
      "outputs": [
        {
          "output_type": "stream",
          "name": "stdout",
          "text": [
            "255.75076072\n"
          ]
        }
      ],
      "source": [
        "fitted = X.dot([10, 0.9])\n",
        "errors = psychopathy - fitted\n",
        "print(np.sum(errors ** 2))"
      ]
    },
    {
      "cell_type": "code",
      "execution_count": 18,
      "metadata": {
        "id": "niUUhXU7HLtX"
      },
      "outputs": [],
      "source": [
        "# Get t distribution code from scipy library\n",
        "from scipy.stats import t as t_dist"
      ]
    },
    {
      "cell_type": "code",
      "execution_count": 19,
      "metadata": {
        "id": "f2tAH5qfHLtY"
      },
      "outputs": [],
      "source": [
        "def t_stat(y, X, c):\n",
        "    \"\"\" betas, t statistic and significance test given data, design matrix, contrast\n",
        "\n",
        "    This is OLS estimation; we assume the errors to have independent\n",
        "    and identical normal distributions around zero for each $i$ in\n",
        "    $\\e_i$ (i.i.d).\n",
        "    \"\"\"\n",
        "    # Make sure y, X, c are all arrays\n",
        "    y = np.asarray(y)\n",
        "    X = np.asarray(X)\n",
        "    c = np.atleast_2d(c).T  # As column vector\n",
        "    # Calculate the parameters - b hat\n",
        "    beta = npl.pinv(X).dot(y)\n",
        "    # The fitted values - y hat\n",
        "    fitted = X.dot(beta)\n",
        "    # Residual error\n",
        "    errors = y - fitted\n",
        "    # Residual sum of squares\n",
        "    RSS = (errors**2).sum(axis=0)\n",
        "    # Degrees of freedom is the number of observations n minus the number\n",
        "    # of independent regressors we have used.  If all the regressor\n",
        "    # columns in X are independent then the (matrix rank of X) == p\n",
        "    # (where p the number of columns in X). If there is one column that\n",
        "    # can be expressed as a linear sum of the other columns then\n",
        "    # (matrix rank of X) will be p - 1 - and so on.\n",
        "    df = X.shape[0] - npl.matrix_rank(X)\n",
        "    # Mean residual sum of squares\n",
        "    MRSS = RSS / df\n",
        "    # calculate bottom half of t statistic\n",
        "    SE = np.sqrt(MRSS * c.T.dot(npl.pinv(X.T.dot(X)).dot(c)))\n",
        "    t = c.T.dot(beta) / SE\n",
        "    # Get p value for t value using cumulative density dunction\n",
        "    # (CDF) of t distribution\n",
        "    ltp = t_dist.cdf(t, df) # lower tail p\n",
        "    p = 1 - ltp # upper tail p\n",
        "    return beta, t, df, p"
      ]
    },
    {
      "cell_type": "markdown",
      "metadata": {
        "id": "czjh3sfnHLtY"
      },
      "source": [
        "For background on the probability values, see [p values from cumulative distribution functions](https://matthew-brett.github.io/teaching/on_cdfs.html) .\n",
        "\n",
        "Is possible to say that `clammy` predict `psychopathy`?\n",
        "\n",
        "If it does not, then the estimate of the slope will not be convincingly different from 0. The t test divides our estimate of the slope by the error in the estimate; large values mean that the slope is large compared to the error in the estimate."
      ]
    },
    {
      "cell_type": "code",
      "execution_count": 20,
      "metadata": {
        "colab": {
          "base_uri": "https://localhost:8080/"
        },
        "id": "2j0MIxb-HLtY",
        "outputId": "377de53d-5c18-4ae6-8b42-f23ac1680112"
      },
      "outputs": [
        {
          "output_type": "execute_result",
          "data": {
            "text/plain": [
              "(array([[1.914389]]), array([[0.042295]]))"
            ]
          },
          "metadata": {},
          "execution_count": 20
        }
      ],
      "source": [
        "X = np.column_stack((np.ones(12), clammy))\n",
        "Y = np.asarray(psychopathy)\n",
        "B, t, df, p = t_stat(Y, X, [0, 1])\n",
        "t, p"
      ]
    },
    {
      "cell_type": "markdown",
      "metadata": {
        "id": "JZy9SehnHLtY"
      },
      "source": [
        "<!-- dummy-coding: -->\n",
        "# Dummy coding and the general linear model\n",
        "\n",
        "So far this is *multiple regression*. Which means all the\n",
        "columns (except the column of ones) are continuous vectors of numbers\n",
        "predicting our outcome data `psychopathy`. These type of predictors\n",
        "are often called *covariates*.\n",
        "\n",
        "It is possible to use this same framework to express the fact that\n",
        "different observations come from different groups.\n",
        "\n",
        "Expressing group membership allows to express *analysis\n",
        "of variance* designs using this same notation. So will be used columns of *dummy variables*.\n",
        "\n",
        "Having as assumption the following:\n",
        "- first 4 students come from Berkeley\n",
        "- the second set of 4 come from Stanford\n",
        "- the last set of 4 come from MIT.\n",
        "\n",
        "Is it possible that the student’s college predicts if they are a psychopath?\n",
        "\n",
        "To express this information, is possible to use the information about the clamminess score for now and just use the school information.\n",
        "So the model will have 3 equations, one for each school.\n",
        "\n",
        "To code this with predictors in the design, it will be used *indicator\n",
        "variables*.\n",
        "\n",
        "The “Berkeley” indicator variable vector is 1 when the student is from Berkeley and zero otherwise. Similarly for the other two\n",
        "schools:"
      ]
    },
    {
      "cell_type": "code",
      "execution_count": 21,
      "metadata": {
        "colab": {
          "base_uri": "https://localhost:8080/"
        },
        "id": "TiAinJfwHLtZ",
        "outputId": "0584ff71-5b9a-4bbc-880d-ef4df3b3299c"
      },
      "outputs": [
        {
          "output_type": "execute_result",
          "data": {
            "text/plain": [
              "array([[1, 0, 0],\n",
              "       [1, 0, 0],\n",
              "       [1, 0, 0],\n",
              "       [1, 0, 0],\n",
              "       [0, 1, 0],\n",
              "       [0, 1, 0],\n",
              "       [0, 1, 0],\n",
              "       [0, 1, 0],\n",
              "       [0, 0, 1],\n",
              "       [0, 0, 1],\n",
              "       [0, 0, 1],\n",
              "       [0, 0, 1]])"
            ]
          },
          "metadata": {},
          "execution_count": 21
        }
      ],
      "source": [
        "berkeley_indicator = [1, 1, 1, 1, 0, 0, 0, 0, 0, 0, 0, 0]\n",
        "stanford_indicator = [0, 0, 0, 0, 1, 1, 1, 1, 0, 0, 0, 0]\n",
        "mit_indicator      = [0, 0, 0, 0, 0, 0, 0, 0, 1, 1, 1, 1]\n",
        "X = np.column_stack((berkeley_indicator,\n",
        "                    stanford_indicator,\n",
        "                    mit_indicator))\n",
        "X"
      ]
    },
    {
      "cell_type": "markdown",
      "metadata": {
        "id": "Txs9sdhOHLtZ"
      },
      "source": [
        "These indicator columns are *dummy variables* where the values code for\n",
        "the group membership.\n"
      ]
    },
    {
      "cell_type": "code",
      "execution_count": 22,
      "metadata": {
        "colab": {
          "base_uri": "https://localhost:8080/"
        },
        "id": "J25SQeeGHLta",
        "outputId": "9c89abb8-261f-4ae6-b45a-cd33954abae8"
      },
      "outputs": [
        {
          "output_type": "execute_result",
          "data": {
            "text/plain": [
              "array([10.74225, 11.3355 , 18.03425])"
            ]
          },
          "metadata": {},
          "execution_count": 22
        }
      ],
      "source": [
        "B = npl.pinv(X).dot(psychopathy)\n",
        "B"
      ]
    },
    {
      "cell_type": "code",
      "execution_count": 24,
      "metadata": {
        "colab": {
          "base_uri": "https://localhost:8080/"
        },
        "id": "KcU9EpPFHLta",
        "outputId": "c61dc782-8098-42f9-8042-07b20c7464ee"
      },
      "outputs": [
        {
          "output_type": "execute_result",
          "data": {
            "text/plain": [
              "(10.74225, 11.3355, 18.03425)"
            ]
          },
          "metadata": {},
          "execution_count": 24
        }
      ],
      "source": [
        "np.mean(psychopathy[:4]), np.mean(psychopathy[4:8]), np.mean(psychopathy[8:])"
      ]
    },
    {
      "cell_type": "markdown",
      "metadata": {
        "id": "JAhL9SpTHLta"
      },
      "source": [
        "The MIT students appear to be a little more psychotic. Are they more\n",
        "psychopathic than Berkeley and Stanford?\n",
        "\n",
        "Is possible to use a contrast to test whether the mean for the MIT students is greater\n",
        "than the mean of (mean for Berkeley, mean for Stanford):"
      ]
    },
    {
      "cell_type": "code",
      "execution_count": 25,
      "metadata": {
        "colab": {
          "base_uri": "https://localhost:8080/"
        },
        "id": "__QVDj4WHLta",
        "outputId": "9273da97-c496-47f5-9824-ac90e5729aa5"
      },
      "outputs": [
        {
          "output_type": "execute_result",
          "data": {
            "text/plain": [
              "(array([[2.340356]]), array([[0.021997]]))"
            ]
          },
          "metadata": {},
          "execution_count": 25
        }
      ],
      "source": [
        "B, t, df, p = t_stat(psychopathy, X, [-0.5, -0.5, 1])\n",
        "t, p"
      ]
    },
    {
      "cell_type": "markdown",
      "metadata": {
        "id": "-uqvJe3cHLtb"
      },
      "source": [
        "Yes, as suspected, MIT students are more psychopathic than Berkeley and Standford.\n",
        "\n",
        "The model above expresses the effect of group membership. It is the\n",
        "expression of a one-way analysis of variance (ANOVA) model.\n",
        "\n",
        "# ANCOVA in the General Linear Model\n",
        "\n",
        "Making a ANCOVA model (analysis of covariance).\n",
        "\n",
        "ANCOVA is a specific term for the case where we have a model with both\n",
        "group membership (ANOVA model) and one or more continuous covariates.\n",
        "\n",
        "For example, going back to clamminess score. Does it make any sense now that we know the student's school?"
      ]
    },
    {
      "cell_type": "code",
      "execution_count": 26,
      "metadata": {
        "colab": {
          "base_uri": "https://localhost:8080/"
        },
        "id": "1x93qsu1HLtb",
        "outputId": "ae49cd79-a734-45b6-9ca8-b7e17ab67873"
      },
      "outputs": [
        {
          "output_type": "execute_result",
          "data": {
            "text/plain": [
              "array([[1.   , 0.   , 0.   , 0.389],\n",
              "       [1.   , 0.   , 0.   , 0.2  ],\n",
              "       [1.   , 0.   , 0.   , 0.241],\n",
              "       [1.   , 0.   , 0.   , 0.463],\n",
              "       [0.   , 1.   , 0.   , 4.585],\n",
              "       [0.   , 1.   , 0.   , 1.097],\n",
              "       [0.   , 1.   , 0.   , 1.642],\n",
              "       [0.   , 1.   , 0.   , 4.972],\n",
              "       [0.   , 0.   , 1.   , 7.957],\n",
              "       [0.   , 0.   , 1.   , 5.585],\n",
              "       [0.   , 0.   , 1.   , 5.527],\n",
              "       [0.   , 0.   , 1.   , 6.964]])"
            ]
          },
          "metadata": {},
          "execution_count": 26
        }
      ],
      "source": [
        "X = np.column_stack((berkeley_indicator,\n",
        "                     stanford_indicator,\n",
        "                     mit_indicator,\n",
        "                     clammy))\n",
        "X"
      ]
    },
    {
      "cell_type": "markdown",
      "metadata": {
        "id": "KGzh-P-yHLth"
      },
      "source": [
        "We test the independent effect of the clamminess score with a contrast\n",
        "on the clammy slope parameter:"
      ]
    },
    {
      "cell_type": "code",
      "execution_count": 27,
      "metadata": {
        "colab": {
          "base_uri": "https://localhost:8080/"
        },
        "id": "Ix77iIikHLti",
        "outputId": "d0ad6eab-7870-4c03-db27-ad9565fb7034"
      },
      "outputs": [
        {
          "output_type": "execute_result",
          "data": {
            "text/plain": [
              "(array([[-0.010661]]), array([[0.504122]]))"
            ]
          },
          "metadata": {},
          "execution_count": 27
        }
      ],
      "source": [
        "B, t, df, p = t_stat(psychopathy, X, [0, 0, 0, 1])\n",
        "t, p"
      ]
    },
    {
      "cell_type": "markdown",
      "metadata": {
        "id": "bY3IoU5DHLti"
      },
      "source": [
        "It appears like there’s not much independent effect of clamminess.  The palms of MIT students appear clammy, and the clammy score loses significance once the student's affiliation with MIT is established.\n",
        "\n",
        "# Displaying the design matrix as an image\n",
        "\n",
        "Design as an image, by scaling the values with columns, and have the same order of magnitude.\n",
        "\n"
      ]
    },
    {
      "cell_type": "code",
      "execution_count": 28,
      "metadata": {
        "id": "H_z27yQKHLti"
      },
      "outputs": [],
      "source": [
        "def scale_design_mtx(X):\n",
        "    \"\"\"utility to scale the design matrix for display\n",
        "\n",
        "    This scales the columns to their own range so we can see the variations\n",
        "    across the column for all the columns, regardless of the scaling of the\n",
        "    column.\n",
        "    \"\"\"\n",
        "    mi, ma = X.min(axis=0), X.max(axis=0)\n",
        "    # Vector that is True for columns where values are not\n",
        "    # all almost equal to each other\n",
        "    col_neq = (ma - mi) > 1.e-8\n",
        "    Xs = np.ones_like(X)\n",
        "    # Leave columns with same value throughout with 1s\n",
        "    # Scale other columns to min, max in column\n",
        "    mi = mi[col_neq]\n",
        "    ma = ma[col_neq]\n",
        "    Xs[:,col_neq] = (X[:,col_neq] - mi)/(ma - mi)\n",
        "    return Xs"
      ]
    },
    {
      "cell_type": "markdown",
      "metadata": {
        "id": "EL98nAK6HLti"
      },
      "source": [
        "Then we can display this scaled design with a title and some default\n",
        "image display parameters:"
      ]
    },
    {
      "cell_type": "code",
      "execution_count": 29,
      "metadata": {
        "id": "A-dMj9KmHLtj"
      },
      "outputs": [],
      "source": [
        "def show_design(X, design_title):\n",
        "    \"\"\" Show the design matrix nicely \"\"\"\n",
        "    plt.imshow(scale_design_mtx(X),\n",
        "               interpolation='nearest',\n",
        "               cmap='gray') # Gray colormap\n",
        "    plt.title(design_title)"
      ]
    },
    {
      "cell_type": "markdown",
      "metadata": {
        "id": "M2LjapTNHLtj"
      },
      "source": [
        "We can then see our ANCOVA design above at a glance:"
      ]
    },
    {
      "cell_type": "code",
      "execution_count": 30,
      "metadata": {
        "colab": {
          "base_uri": "https://localhost:8080/",
          "height": 452
        },
        "id": "TiBwBbj1HLtj",
        "outputId": "a0cec7d1-9c76-4d70-a106-95ace44e8899"
      },
      "outputs": [
        {
          "output_type": "display_data",
          "data": {
            "text/plain": [
              "<Figure size 640x480 with 1 Axes>"
            ],
            "image/png": "[encoded data removed]"
          },
          "metadata": {}
        }
      ],
      "source": [
        "show_design(X, 'ANCOVA')"
      ]
    },
    {
      "cell_type": "markdown",
      "metadata": {
        "id": "ZW7_dhD8HLtj"
      },
      "source": [
        "<!-- A file containing links and substitutions -->\n",
        "<!-- vim: ft=rst -->\n",
        "<!-- Version control -->\n",
        "<!-- Editors -->\n",
        "<!-- Python and common libraries -->\n",
        "<!-- Virtualenv and helpers -->\n",
        "<!-- Pypi and packaging -->\n",
        "<!-- Mac development -->\n",
        "<!-- Windows development -->\n",
        "<!-- Nipy and friends -->\n",
        "<!-- Mathematics -->\n",
        "<!-- Licenses -->\n",
        "<!-- Neuroimaging stuff -->\n",
        "<!-- People -->\n",
        "<!-- Substitutions -->"
      ]
    }
  ],
  "metadata": {
    "language_info": {
      "name": "python"
    },
    "colab": {
      "provenance": []
    },
    "kernelspec": {
      "name": "python3",
      "display_name": "Python 3"
    }
  },
  "nbformat": 4,
  "nbformat_minor": 0
}